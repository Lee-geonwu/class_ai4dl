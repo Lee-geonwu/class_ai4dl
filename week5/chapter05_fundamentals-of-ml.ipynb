{
  "cells": [
    {
      "cell_type": "markdown",
      "metadata": {
        "id": "view-in-github",
        "colab_type": "text"
      },
      "source": [
        "<a href=\"https://colab.research.google.com/github/Lee-geonwu/class_ai4dl/blob/main/week5/chapter05_fundamentals-of-ml.ipynb\" target=\"_parent\"><img src=\"https://colab.research.google.com/assets/colab-badge.svg\" alt=\"Open In Colab\"/></a>"
      ]
    },
    {
      "cell_type": "markdown",
      "metadata": {
        "id": "ubxY_nhaDELO"
      },
      "source": [
        "This is a companion notebook for the book [Deep Learning with Python, Second Edition](https://www.manning.com/books/deep-learning-with-python-second-edition?a_aid=keras&a_bid=76564dff). For readability, it only contains runnable code blocks and section titles, and omits everything else in the book: text paragraphs, figures, and pseudocode.\n",
        "\n",
        "**If you want to be able to follow what's going on, I recommend reading the notebook side by side with your copy of the book.**\n",
        "\n",
        "This notebook was generated for TensorFlow 2.6."
      ]
    },
    {
      "cell_type": "markdown",
      "metadata": {
        "id": "j8W62KDjDELR"
      },
      "source": [
        "# Fundamentals of machine learning"
      ]
    },
    {
      "cell_type": "markdown",
      "metadata": {
        "id": "NJQNbXTWDELS"
      },
      "source": [
        "## Generalization: The goal of machine learning"
      ]
    },
    {
      "cell_type": "markdown",
      "metadata": {
        "id": "kti3VUGaDELS"
      },
      "source": [
        "### Underfitting and overfitting"
      ]
    },
    {
      "cell_type": "markdown",
      "metadata": {
        "id": "_dta93pcDELS"
      },
      "source": [
        "#### Noisy training data"
      ]
    },
    {
      "cell_type": "markdown",
      "metadata": {
        "id": "Cx9vVpnBDELS"
      },
      "source": [
        "#### Ambiguous features"
      ]
    },
    {
      "cell_type": "markdown",
      "metadata": {
        "id": "asJj9-SlDELT"
      },
      "source": [
        "#### Rare features and spurious correlations"
      ]
    },
    {
      "cell_type": "markdown",
      "metadata": {
        "id": "1X9hq3EJDELT"
      },
      "source": [
        "**Adding white-noise channels or all-zeros channels to MNIST**"
      ]
    },
    {
      "cell_type": "code",
      "execution_count": 1,
      "metadata": {
        "id": "Z7rLy_ukDELT",
        "outputId": "0b37e38b-e6cc-4b58-8174-1658b806b2bc",
        "colab": {
          "base_uri": "https://localhost:8080/"
        }
      },
      "outputs": [
        {
          "output_type": "stream",
          "name": "stdout",
          "text": [
            "Downloading data from https://storage.googleapis.com/tensorflow/tf-keras-datasets/mnist.npz\n",
            "11490434/11490434 [==============================] - 2s 0us/step\n"
          ]
        }
      ],
      "source": [
        "from tensorflow.keras.datasets import mnist\n",
        "import numpy as np\n",
        "\n",
        "(train_images, train_labels), _ = mnist.load_data()\n",
        "train_images = train_images.reshape((60000, 28 * 28))\n",
        "train_images = train_images.astype(\"float32\") / 255\n",
        "\n",
        "train_images_with_noise_channels = np.concatenate(\n",
        "    [train_images, np.random.random((len(train_images), 784))], axis=1)\n",
        "\n",
        "train_images_with_zeros_channels = np.concatenate(\n",
        "    [train_images, np.zeros((len(train_images), 784))], axis=1)"
      ]
    },
    {
      "cell_type": "code",
      "source": [
        "train_images.shape"
      ],
      "metadata": {
        "id": "uwHsyh9HHi8G",
        "outputId": "96ba5dc0-4803-4798-a988-ca2fdfa7d078",
        "colab": {
          "base_uri": "https://localhost:8080/"
        }
      },
      "execution_count": 2,
      "outputs": [
        {
          "output_type": "execute_result",
          "data": {
            "text/plain": [
              "(60000, 784)"
            ]
          },
          "metadata": {},
          "execution_count": 2
        }
      ]
    },
    {
      "cell_type": "code",
      "source": [
        "np.random.random((len(train_images), 784)).shape"
      ],
      "metadata": {
        "id": "9C2RkGx8Hivl",
        "outputId": "382109af-0082-486c-f8af-1561ff385e3b",
        "colab": {
          "base_uri": "https://localhost:8080/"
        }
      },
      "execution_count": 3,
      "outputs": [
        {
          "output_type": "execute_result",
          "data": {
            "text/plain": [
              "(60000, 784)"
            ]
          },
          "metadata": {},
          "execution_count": 3
        }
      ]
    },
    {
      "cell_type": "code",
      "source": [
        "np.concatenate(\n",
        "    [train_images, np.zeros((len(train_images), 784))], axis=1).shape"
      ],
      "metadata": {
        "id": "HsYSuPCzHuJh",
        "outputId": "c15d5518-915f-428a-bb58-6922e600abeb",
        "colab": {
          "base_uri": "https://localhost:8080/"
        }
      },
      "execution_count": 4,
      "outputs": [
        {
          "output_type": "execute_result",
          "data": {
            "text/plain": [
              "(60000, 1568)"
            ]
          },
          "metadata": {},
          "execution_count": 4
        }
      ]
    },
    {
      "cell_type": "code",
      "source": [
        "train_images_with_noise_channels[0]"
      ],
      "metadata": {
        "id": "wchGBsovIFYg",
        "outputId": "90b97afb-2fc4-4fa6-bfad-656f36bb365e",
        "colab": {
          "base_uri": "https://localhost:8080/"
        }
      },
      "execution_count": 5,
      "outputs": [
        {
          "output_type": "execute_result",
          "data": {
            "text/plain": [
              "array([0.        , 0.        , 0.        , ..., 0.29255975, 0.04066072,\n",
              "       0.72937639])"
            ]
          },
          "metadata": {},
          "execution_count": 5
        }
      ]
    },
    {
      "cell_type": "code",
      "source": [
        "train_images_with_zeros_channels[0]"
      ],
      "metadata": {
        "id": "6B6CP9urIONo",
        "outputId": "c9b8740d-8656-4352-892a-31e20b02960b",
        "colab": {
          "base_uri": "https://localhost:8080/"
        }
      },
      "execution_count": 8,
      "outputs": [
        {
          "output_type": "execute_result",
          "data": {
            "text/plain": [
              "array([0., 0., 0., ..., 0., 0., 0.])"
            ]
          },
          "metadata": {},
          "execution_count": 8
        }
      ]
    },
    {
      "cell_type": "markdown",
      "metadata": {
        "id": "75CpAJ0VDELU"
      },
      "source": [
        "**Training the same model on MNIST data with noise channels or all-zero channels**"
      ]
    },
    {
      "cell_type": "code",
      "execution_count": 9,
      "metadata": {
        "id": "TIklrnpeDELV",
        "outputId": "0a0b39b8-19f8-4a8f-91ee-4aa8b3daf601",
        "colab": {
          "base_uri": "https://localhost:8080/"
        }
      },
      "outputs": [
        {
          "output_type": "stream",
          "name": "stdout",
          "text": [
            "Epoch 1/10\n",
            "375/375 [==============================] - 7s 4ms/step - loss: 0.6309 - accuracy: 0.8080 - val_loss: 0.3136 - val_accuracy: 0.9080\n",
            "Epoch 2/10\n",
            "375/375 [==============================] - 1s 3ms/step - loss: 0.2589 - accuracy: 0.9200 - val_loss: 0.2381 - val_accuracy: 0.9249\n",
            "Epoch 3/10\n",
            "375/375 [==============================] - 1s 3ms/step - loss: 0.1697 - accuracy: 0.9476 - val_loss: 0.1599 - val_accuracy: 0.9531\n",
            "Epoch 4/10\n",
            "375/375 [==============================] - 1s 3ms/step - loss: 0.1197 - accuracy: 0.9625 - val_loss: 0.1415 - val_accuracy: 0.9576\n",
            "Epoch 5/10\n",
            "375/375 [==============================] - 1s 3ms/step - loss: 0.0887 - accuracy: 0.9725 - val_loss: 0.1423 - val_accuracy: 0.9578\n",
            "Epoch 6/10\n",
            "375/375 [==============================] - 2s 4ms/step - loss: 0.0670 - accuracy: 0.9781 - val_loss: 0.1319 - val_accuracy: 0.9633\n",
            "Epoch 7/10\n",
            "375/375 [==============================] - 1s 3ms/step - loss: 0.0504 - accuracy: 0.9838 - val_loss: 0.1384 - val_accuracy: 0.9610\n",
            "Epoch 8/10\n",
            "375/375 [==============================] - 1s 3ms/step - loss: 0.0349 - accuracy: 0.9894 - val_loss: 0.1955 - val_accuracy: 0.9491\n",
            "Epoch 9/10\n",
            "375/375 [==============================] - 1s 3ms/step - loss: 0.0269 - accuracy: 0.9917 - val_loss: 0.1404 - val_accuracy: 0.9627\n",
            "Epoch 10/10\n",
            "375/375 [==============================] - 1s 3ms/step - loss: 0.0189 - accuracy: 0.9944 - val_loss: 0.1330 - val_accuracy: 0.9673\n",
            "Epoch 1/10\n",
            "375/375 [==============================] - 2s 4ms/step - loss: 0.2937 - accuracy: 0.9162 - val_loss: 0.1488 - val_accuracy: 0.9582\n",
            "Epoch 2/10\n",
            "375/375 [==============================] - 2s 4ms/step - loss: 0.1229 - accuracy: 0.9644 - val_loss: 0.1179 - val_accuracy: 0.9642\n",
            "Epoch 3/10\n",
            "375/375 [==============================] - 1s 4ms/step - loss: 0.0807 - accuracy: 0.9759 - val_loss: 0.0898 - val_accuracy: 0.9728\n",
            "Epoch 4/10\n",
            "375/375 [==============================] - 1s 3ms/step - loss: 0.0578 - accuracy: 0.9829 - val_loss: 0.0857 - val_accuracy: 0.9757\n",
            "Epoch 5/10\n",
            "375/375 [==============================] - 1s 3ms/step - loss: 0.0431 - accuracy: 0.9874 - val_loss: 0.0898 - val_accuracy: 0.9747\n",
            "Epoch 6/10\n",
            "375/375 [==============================] - 1s 3ms/step - loss: 0.0330 - accuracy: 0.9904 - val_loss: 0.0791 - val_accuracy: 0.9772\n",
            "Epoch 7/10\n",
            "375/375 [==============================] - 1s 3ms/step - loss: 0.0252 - accuracy: 0.9924 - val_loss: 0.0742 - val_accuracy: 0.9787\n",
            "Epoch 8/10\n",
            "375/375 [==============================] - 1s 3ms/step - loss: 0.0183 - accuracy: 0.9950 - val_loss: 0.0743 - val_accuracy: 0.9787\n",
            "Epoch 9/10\n",
            "375/375 [==============================] - 1s 3ms/step - loss: 0.0133 - accuracy: 0.9965 - val_loss: 0.0754 - val_accuracy: 0.9796\n",
            "Epoch 10/10\n",
            "375/375 [==============================] - 1s 3ms/step - loss: 0.0096 - accuracy: 0.9978 - val_loss: 0.0759 - val_accuracy: 0.9801\n"
          ]
        }
      ],
      "source": [
        "from tensorflow import keras\n",
        "from tensorflow.keras import layers\n",
        "\n",
        "def get_model():\n",
        "    model = keras.Sequential([\n",
        "        layers.Dense(512, activation=\"relu\"),\n",
        "        layers.Dense(10, activation=\"softmax\")\n",
        "    ])\n",
        "    model.compile(optimizer=\"rmsprop\",\n",
        "                  loss=\"sparse_categorical_crossentropy\",\n",
        "                  metrics=[\"accuracy\"])\n",
        "    return model\n",
        "\n",
        "model = get_model()\n",
        "history_noise = model.fit(\n",
        "    train_images_with_noise_channels, train_labels,\n",
        "    epochs=10,\n",
        "    batch_size=128,\n",
        "    validation_split=0.2)\n",
        "\n",
        "model = get_model()\n",
        "history_zeros = model.fit(\n",
        "    train_images_with_zeros_channels, train_labels,\n",
        "    epochs=10,\n",
        "    batch_size=128,\n",
        "    validation_split=0.2)"
      ]
    },
    {
      "cell_type": "markdown",
      "metadata": {
        "id": "1YOZ69yvDELW"
      },
      "source": [
        "**Plotting a validation accuracy comparison**"
      ]
    },
    {
      "cell_type": "code",
      "execution_count": 10,
      "metadata": {
        "id": "Lizquh8EDELW",
        "outputId": "18ac5cf1-c961-4335-badc-6bb18ae47d8c",
        "colab": {
          "base_uri": "https://localhost:8080/",
          "height": 490
        }
      },
      "outputs": [
        {
          "output_type": "execute_result",
          "data": {
            "text/plain": [
              "<matplotlib.legend.Legend at 0x7fa930090040>"
            ]
          },
          "metadata": {},
          "execution_count": 10
        },
        {
          "output_type": "display_data",
          "data": {
            "text/plain": [
              "<Figure size 640x480 with 1 Axes>"
            ],
            "image/png": "[encoded data removed]"
          },
          "metadata": {}
        }
      ],
      "source": [
        "import matplotlib.pyplot as plt\n",
        "val_acc_noise = history_noise.history[\"val_accuracy\"]\n",
        "val_acc_zeros = history_zeros.history[\"val_accuracy\"]\n",
        "epochs = range(1, 11)\n",
        "plt.plot(epochs, val_acc_noise, \"b-\",\n",
        "         label=\"Validation accuracy with noise channels\")\n",
        "plt.plot(epochs, val_acc_zeros, \"b--\",\n",
        "         label=\"Validation accuracy with zeros channels\")\n",
        "plt.title(\"Effect of noise channels on validation accuracy\")\n",
        "plt.xlabel(\"Epochs\")\n",
        "plt.ylabel(\"Accuracy\")\n",
        "plt.legend()"
      ]
    },
    {
      "cell_type": "markdown",
      "metadata": {
        "id": "jn7Gv4xjDELX"
      },
      "source": [
        "### The nature of generalization in deep learning"
      ]
    },
    {
      "cell_type": "markdown",
      "metadata": {
        "id": "LWoVKnF3DELX"
      },
      "source": [
        "**Fitting a MNIST model with randomly shuffled labels**"
      ]
    },
    {
      "cell_type": "code",
      "execution_count": 11,
      "metadata": {
        "id": "FUjV9sbxDELX",
        "outputId": "2b841a18-6dac-49be-c361-4182df92ad82",
        "colab": {
          "base_uri": "https://localhost:8080/"
        }
      },
      "outputs": [
        {
          "output_type": "stream",
          "name": "stdout",
          "text": [
            "Epoch 1/100\n",
            "375/375 [==============================] - 2s 3ms/step - loss: 2.3148 - accuracy: 0.1040 - val_loss: 2.3037 - val_accuracy: 0.1071\n",
            "Epoch 2/100\n",
            "375/375 [==============================] - 1s 3ms/step - loss: 2.2988 - accuracy: 0.1186 - val_loss: 2.3112 - val_accuracy: 0.0992\n",
            "Epoch 3/100\n",
            "375/375 [==============================] - 1s 3ms/step - loss: 2.2910 - accuracy: 0.1276 - val_loss: 2.3206 - val_accuracy: 0.1103\n",
            "Epoch 4/100\n",
            "375/375 [==============================] - 2s 4ms/step - loss: 2.2789 - accuracy: 0.1387 - val_loss: 2.3270 - val_accuracy: 0.1009\n",
            "Epoch 5/100\n",
            "375/375 [==============================] - 1s 3ms/step - loss: 2.2628 - accuracy: 0.1534 - val_loss: 2.3338 - val_accuracy: 0.1042\n",
            "Epoch 6/100\n",
            "375/375 [==============================] - 1s 3ms/step - loss: 2.2444 - accuracy: 0.1647 - val_loss: 2.3478 - val_accuracy: 0.1054\n",
            "Epoch 7/100\n",
            "375/375 [==============================] - 2s 6ms/step - loss: 2.2219 - accuracy: 0.1790 - val_loss: 2.3594 - val_accuracy: 0.1047\n",
            "Epoch 8/100\n",
            "375/375 [==============================] - 1s 3ms/step - loss: 2.1950 - accuracy: 0.1921 - val_loss: 2.3747 - val_accuracy: 0.1049\n",
            "Epoch 9/100\n",
            "375/375 [==============================] - 1s 4ms/step - loss: 2.1657 - accuracy: 0.2101 - val_loss: 2.4029 - val_accuracy: 0.0993\n",
            "Epoch 10/100\n",
            "375/375 [==============================] - 1s 3ms/step - loss: 2.1344 - accuracy: 0.2277 - val_loss: 2.4130 - val_accuracy: 0.1039\n",
            "Epoch 11/100\n",
            "375/375 [==============================] - 1s 3ms/step - loss: 2.0987 - accuracy: 0.2465 - val_loss: 2.4304 - val_accuracy: 0.1031\n",
            "Epoch 12/100\n",
            "375/375 [==============================] - 1s 4ms/step - loss: 2.0630 - accuracy: 0.2613 - val_loss: 2.4646 - val_accuracy: 0.1024\n",
            "Epoch 13/100\n",
            "375/375 [==============================] - 1s 4ms/step - loss: 2.0252 - accuracy: 0.2776 - val_loss: 2.4871 - val_accuracy: 0.1033\n",
            "Epoch 14/100\n",
            "375/375 [==============================] - 1s 3ms/step - loss: 1.9874 - accuracy: 0.2952 - val_loss: 2.5229 - val_accuracy: 0.1044\n",
            "Epoch 15/100\n",
            "375/375 [==============================] - 1s 3ms/step - loss: 1.9503 - accuracy: 0.3105 - val_loss: 2.5537 - val_accuracy: 0.1005\n",
            "Epoch 16/100\n",
            "375/375 [==============================] - 1s 3ms/step - loss: 1.9106 - accuracy: 0.3247 - val_loss: 2.5849 - val_accuracy: 0.1001\n",
            "Epoch 17/100\n",
            "375/375 [==============================] - 1s 3ms/step - loss: 1.8708 - accuracy: 0.3441 - val_loss: 2.6197 - val_accuracy: 0.1015\n",
            "Epoch 18/100\n",
            "375/375 [==============================] - 1s 3ms/step - loss: 1.8325 - accuracy: 0.3589 - val_loss: 2.6725 - val_accuracy: 0.1018\n",
            "Epoch 19/100\n",
            "375/375 [==============================] - 1s 3ms/step - loss: 1.7927 - accuracy: 0.3764 - val_loss: 2.6894 - val_accuracy: 0.1040\n",
            "Epoch 20/100\n",
            "375/375 [==============================] - 1s 3ms/step - loss: 1.7566 - accuracy: 0.3916 - val_loss: 2.7305 - val_accuracy: 0.1002\n",
            "Epoch 21/100\n",
            "375/375 [==============================] - 1s 3ms/step - loss: 1.7167 - accuracy: 0.4037 - val_loss: 2.7888 - val_accuracy: 0.0998\n",
            "Epoch 22/100\n",
            "375/375 [==============================] - 1s 3ms/step - loss: 1.6792 - accuracy: 0.4194 - val_loss: 2.8314 - val_accuracy: 0.1005\n",
            "Epoch 23/100\n",
            "375/375 [==============================] - 2s 4ms/step - loss: 1.6444 - accuracy: 0.4313 - val_loss: 2.8871 - val_accuracy: 0.0965\n",
            "Epoch 24/100\n",
            "375/375 [==============================] - 1s 3ms/step - loss: 1.6079 - accuracy: 0.4471 - val_loss: 2.9138 - val_accuracy: 0.1002\n",
            "Epoch 25/100\n",
            "375/375 [==============================] - 1s 3ms/step - loss: 1.5710 - accuracy: 0.4612 - val_loss: 2.9577 - val_accuracy: 0.1045\n",
            "Epoch 26/100\n",
            "375/375 [==============================] - 1s 3ms/step - loss: 1.5375 - accuracy: 0.4724 - val_loss: 3.0216 - val_accuracy: 0.1007\n",
            "Epoch 27/100\n",
            "375/375 [==============================] - 1s 3ms/step - loss: 1.5027 - accuracy: 0.4864 - val_loss: 3.0718 - val_accuracy: 0.0986\n",
            "Epoch 28/100\n",
            "375/375 [==============================] - 1s 3ms/step - loss: 1.4728 - accuracy: 0.4983 - val_loss: 3.1078 - val_accuracy: 0.1047\n",
            "Epoch 29/100\n",
            "375/375 [==============================] - 1s 3ms/step - loss: 1.4398 - accuracy: 0.5100 - val_loss: 3.1685 - val_accuracy: 0.1008\n",
            "Epoch 30/100\n",
            "375/375 [==============================] - 1s 3ms/step - loss: 1.4080 - accuracy: 0.5216 - val_loss: 3.2088 - val_accuracy: 0.0992\n",
            "Epoch 31/100\n",
            "375/375 [==============================] - 1s 3ms/step - loss: 1.3776 - accuracy: 0.5330 - val_loss: 3.2556 - val_accuracy: 0.0970\n",
            "Epoch 32/100\n",
            "375/375 [==============================] - 1s 3ms/step - loss: 1.3480 - accuracy: 0.5440 - val_loss: 3.3360 - val_accuracy: 0.0973\n",
            "Epoch 33/100\n",
            "375/375 [==============================] - 2s 4ms/step - loss: 1.3184 - accuracy: 0.5552 - val_loss: 3.3645 - val_accuracy: 0.0996\n",
            "Epoch 34/100\n",
            "375/375 [==============================] - 1s 4ms/step - loss: 1.2894 - accuracy: 0.5651 - val_loss: 3.4155 - val_accuracy: 0.0962\n",
            "Epoch 35/100\n",
            "375/375 [==============================] - 1s 3ms/step - loss: 1.2630 - accuracy: 0.5772 - val_loss: 3.4756 - val_accuracy: 0.1010\n",
            "Epoch 36/100\n",
            "375/375 [==============================] - 1s 3ms/step - loss: 1.2375 - accuracy: 0.5852 - val_loss: 3.5354 - val_accuracy: 0.1024\n",
            "Epoch 37/100\n",
            "375/375 [==============================] - 1s 3ms/step - loss: 1.2113 - accuracy: 0.5947 - val_loss: 3.5919 - val_accuracy: 0.0974\n",
            "Epoch 38/100\n",
            "375/375 [==============================] - 1s 3ms/step - loss: 1.1850 - accuracy: 0.6006 - val_loss: 3.6818 - val_accuracy: 0.0980\n",
            "Epoch 39/100\n",
            "375/375 [==============================] - 1s 3ms/step - loss: 1.1592 - accuracy: 0.6120 - val_loss: 3.6941 - val_accuracy: 0.0981\n",
            "Epoch 40/100\n",
            "375/375 [==============================] - 1s 3ms/step - loss: 1.1324 - accuracy: 0.6225 - val_loss: 3.7562 - val_accuracy: 0.0983\n",
            "Epoch 41/100\n",
            "375/375 [==============================] - 1s 3ms/step - loss: 1.1126 - accuracy: 0.6279 - val_loss: 3.8130 - val_accuracy: 0.1002\n",
            "Epoch 42/100\n",
            "375/375 [==============================] - 1s 3ms/step - loss: 1.0866 - accuracy: 0.6366 - val_loss: 3.8859 - val_accuracy: 0.1007\n",
            "Epoch 43/100\n",
            "375/375 [==============================] - 2s 4ms/step - loss: 1.0668 - accuracy: 0.6454 - val_loss: 3.9529 - val_accuracy: 0.0983\n",
            "Epoch 44/100\n",
            "375/375 [==============================] - 1s 3ms/step - loss: 1.0434 - accuracy: 0.6522 - val_loss: 3.9987 - val_accuracy: 0.0983\n",
            "Epoch 45/100\n",
            "375/375 [==============================] - 1s 3ms/step - loss: 1.0236 - accuracy: 0.6590 - val_loss: 4.0726 - val_accuracy: 0.1021\n",
            "Epoch 46/100\n",
            "375/375 [==============================] - 1s 3ms/step - loss: 1.0007 - accuracy: 0.6669 - val_loss: 4.1584 - val_accuracy: 0.0971\n",
            "Epoch 47/100\n",
            "375/375 [==============================] - 1s 3ms/step - loss: 0.9810 - accuracy: 0.6735 - val_loss: 4.1803 - val_accuracy: 0.0966\n",
            "Epoch 48/100\n",
            "375/375 [==============================] - 1s 3ms/step - loss: 0.9618 - accuracy: 0.6823 - val_loss: 4.2791 - val_accuracy: 0.1032\n",
            "Epoch 49/100\n",
            "375/375 [==============================] - 1s 3ms/step - loss: 0.9401 - accuracy: 0.6914 - val_loss: 4.3115 - val_accuracy: 0.0982\n",
            "Epoch 50/100\n",
            "375/375 [==============================] - 1s 3ms/step - loss: 0.9189 - accuracy: 0.6990 - val_loss: 4.3921 - val_accuracy: 0.0992\n",
            "Epoch 51/100\n",
            "375/375 [==============================] - 1s 3ms/step - loss: 0.9034 - accuracy: 0.7028 - val_loss: 4.4597 - val_accuracy: 0.0987\n",
            "Epoch 52/100\n",
            "375/375 [==============================] - 1s 3ms/step - loss: 0.8839 - accuracy: 0.7081 - val_loss: 4.5206 - val_accuracy: 0.1006\n",
            "Epoch 53/100\n",
            "375/375 [==============================] - 2s 4ms/step - loss: 0.8680 - accuracy: 0.7146 - val_loss: 4.5917 - val_accuracy: 0.0975\n",
            "Epoch 54/100\n",
            "375/375 [==============================] - 2s 4ms/step - loss: 0.8481 - accuracy: 0.7214 - val_loss: 4.6558 - val_accuracy: 0.1000\n",
            "Epoch 55/100\n",
            "375/375 [==============================] - 1s 3ms/step - loss: 0.8310 - accuracy: 0.7287 - val_loss: 4.6643 - val_accuracy: 0.0963\n",
            "Epoch 56/100\n",
            "375/375 [==============================] - 1s 3ms/step - loss: 0.8140 - accuracy: 0.7336 - val_loss: 4.7719 - val_accuracy: 0.1018\n",
            "Epoch 57/100\n",
            "375/375 [==============================] - 1s 3ms/step - loss: 0.7976 - accuracy: 0.7390 - val_loss: 4.8604 - val_accuracy: 0.0989\n",
            "Epoch 58/100\n",
            "375/375 [==============================] - 1s 3ms/step - loss: 0.7823 - accuracy: 0.7455 - val_loss: 4.9373 - val_accuracy: 0.0976\n",
            "Epoch 59/100\n",
            "375/375 [==============================] - 1s 3ms/step - loss: 0.7662 - accuracy: 0.7519 - val_loss: 5.0242 - val_accuracy: 0.0977\n",
            "Epoch 60/100\n",
            "375/375 [==============================] - 1s 3ms/step - loss: 0.7523 - accuracy: 0.7550 - val_loss: 5.0228 - val_accuracy: 0.0972\n",
            "Epoch 61/100\n",
            "375/375 [==============================] - 1s 3ms/step - loss: 0.7362 - accuracy: 0.7602 - val_loss: 5.1224 - val_accuracy: 0.0978\n",
            "Epoch 62/100\n",
            "375/375 [==============================] - 1s 3ms/step - loss: 0.7221 - accuracy: 0.7661 - val_loss: 5.1767 - val_accuracy: 0.0995\n",
            "Epoch 63/100\n",
            "375/375 [==============================] - 2s 4ms/step - loss: 0.7069 - accuracy: 0.7715 - val_loss: 5.2769 - val_accuracy: 0.0978\n",
            "Epoch 64/100\n",
            "375/375 [==============================] - 2s 4ms/step - loss: 0.6936 - accuracy: 0.7757 - val_loss: 5.3672 - val_accuracy: 0.0957\n",
            "Epoch 65/100\n",
            "375/375 [==============================] - 1s 3ms/step - loss: 0.6818 - accuracy: 0.7800 - val_loss: 5.4332 - val_accuracy: 0.0985\n",
            "Epoch 66/100\n",
            "375/375 [==============================] - 1s 3ms/step - loss: 0.6683 - accuracy: 0.7846 - val_loss: 5.4749 - val_accuracy: 0.0972\n",
            "Epoch 67/100\n",
            "375/375 [==============================] - 1s 3ms/step - loss: 0.6544 - accuracy: 0.7895 - val_loss: 5.5346 - val_accuracy: 0.1000\n",
            "Epoch 68/100\n",
            "375/375 [==============================] - 1s 3ms/step - loss: 0.6413 - accuracy: 0.7936 - val_loss: 5.6082 - val_accuracy: 0.1001\n",
            "Epoch 69/100\n",
            "375/375 [==============================] - 1s 3ms/step - loss: 0.6296 - accuracy: 0.7995 - val_loss: 5.6962 - val_accuracy: 0.0956\n",
            "Epoch 70/100\n",
            "375/375 [==============================] - 1s 3ms/step - loss: 0.6168 - accuracy: 0.8028 - val_loss: 5.7650 - val_accuracy: 0.0995\n",
            "Epoch 71/100\n",
            "375/375 [==============================] - 1s 3ms/step - loss: 0.6029 - accuracy: 0.8071 - val_loss: 5.8477 - val_accuracy: 0.0967\n",
            "Epoch 72/100\n",
            "375/375 [==============================] - 1s 3ms/step - loss: 0.5917 - accuracy: 0.8118 - val_loss: 5.9398 - val_accuracy: 0.0966\n",
            "Epoch 73/100\n",
            "375/375 [==============================] - 1s 4ms/step - loss: 0.5825 - accuracy: 0.8135 - val_loss: 6.0317 - val_accuracy: 0.0971\n",
            "Epoch 74/100\n",
            "375/375 [==============================] - 1s 4ms/step - loss: 0.5714 - accuracy: 0.8192 - val_loss: 6.0852 - val_accuracy: 0.0940\n",
            "Epoch 75/100\n",
            "375/375 [==============================] - 1s 3ms/step - loss: 0.5586 - accuracy: 0.8232 - val_loss: 6.1365 - val_accuracy: 0.0992\n",
            "Epoch 76/100\n",
            "375/375 [==============================] - 1s 3ms/step - loss: 0.5482 - accuracy: 0.8264 - val_loss: 6.2193 - val_accuracy: 0.0994\n",
            "Epoch 77/100\n",
            "375/375 [==============================] - 1s 3ms/step - loss: 0.5360 - accuracy: 0.8310 - val_loss: 6.3450 - val_accuracy: 0.0954\n",
            "Epoch 78/100\n",
            "375/375 [==============================] - 1s 3ms/step - loss: 0.5267 - accuracy: 0.8325 - val_loss: 6.3444 - val_accuracy: 0.0953\n",
            "Epoch 79/100\n",
            "375/375 [==============================] - 1s 3ms/step - loss: 0.5171 - accuracy: 0.8364 - val_loss: 6.4490 - val_accuracy: 0.0962\n",
            "Epoch 80/100\n",
            "375/375 [==============================] - 1s 3ms/step - loss: 0.5084 - accuracy: 0.8387 - val_loss: 6.4878 - val_accuracy: 0.0965\n",
            "Epoch 81/100\n",
            "375/375 [==============================] - 1s 3ms/step - loss: 0.5003 - accuracy: 0.8446 - val_loss: 6.5894 - val_accuracy: 0.0977\n",
            "Epoch 82/100\n",
            "375/375 [==============================] - 1s 3ms/step - loss: 0.4908 - accuracy: 0.8461 - val_loss: 6.6368 - val_accuracy: 0.1010\n",
            "Epoch 83/100\n",
            "375/375 [==============================] - 2s 4ms/step - loss: 0.4818 - accuracy: 0.8484 - val_loss: 6.7749 - val_accuracy: 0.0981\n",
            "Epoch 84/100\n",
            "375/375 [==============================] - 1s 4ms/step - loss: 0.4729 - accuracy: 0.8527 - val_loss: 6.7725 - val_accuracy: 0.0946\n",
            "Epoch 85/100\n",
            "375/375 [==============================] - 1s 3ms/step - loss: 0.4616 - accuracy: 0.8546 - val_loss: 6.8536 - val_accuracy: 0.0962\n",
            "Epoch 86/100\n",
            "375/375 [==============================] - 1s 3ms/step - loss: 0.4550 - accuracy: 0.8571 - val_loss: 6.9998 - val_accuracy: 0.1002\n",
            "Epoch 87/100\n",
            "375/375 [==============================] - 1s 3ms/step - loss: 0.4468 - accuracy: 0.8599 - val_loss: 7.0104 - val_accuracy: 0.0952\n",
            "Epoch 88/100\n",
            "375/375 [==============================] - 1s 3ms/step - loss: 0.4370 - accuracy: 0.8645 - val_loss: 7.1191 - val_accuracy: 0.0998\n",
            "Epoch 89/100\n",
            "375/375 [==============================] - 1s 3ms/step - loss: 0.4300 - accuracy: 0.8654 - val_loss: 7.1426 - val_accuracy: 0.0964\n",
            "Epoch 90/100\n",
            "375/375 [==============================] - 1s 3ms/step - loss: 0.4211 - accuracy: 0.8686 - val_loss: 7.2663 - val_accuracy: 0.0973\n",
            "Epoch 91/100\n",
            "375/375 [==============================] - 1s 3ms/step - loss: 0.4138 - accuracy: 0.8727 - val_loss: 7.4006 - val_accuracy: 0.1007\n",
            "Epoch 92/100\n",
            "375/375 [==============================] - 1s 3ms/step - loss: 0.4079 - accuracy: 0.8733 - val_loss: 7.3928 - val_accuracy: 0.0963\n",
            "Epoch 93/100\n",
            "375/375 [==============================] - 1s 4ms/step - loss: 0.3979 - accuracy: 0.8774 - val_loss: 7.4918 - val_accuracy: 0.0951\n",
            "Epoch 94/100\n",
            "375/375 [==============================] - 1s 4ms/step - loss: 0.3928 - accuracy: 0.8786 - val_loss: 7.5258 - val_accuracy: 0.1001\n",
            "Epoch 95/100\n",
            "375/375 [==============================] - 1s 3ms/step - loss: 0.3853 - accuracy: 0.8813 - val_loss: 7.6339 - val_accuracy: 0.0950\n",
            "Epoch 96/100\n",
            "375/375 [==============================] - 1s 3ms/step - loss: 0.3808 - accuracy: 0.8801 - val_loss: 7.7043 - val_accuracy: 0.0970\n",
            "Epoch 97/100\n",
            "375/375 [==============================] - 1s 3ms/step - loss: 0.3727 - accuracy: 0.8850 - val_loss: 7.8124 - val_accuracy: 0.0981\n",
            "Epoch 98/100\n",
            "375/375 [==============================] - 1s 3ms/step - loss: 0.3636 - accuracy: 0.8870 - val_loss: 7.8272 - val_accuracy: 0.0990\n",
            "Epoch 99/100\n",
            "375/375 [==============================] - 1s 3ms/step - loss: 0.3585 - accuracy: 0.8882 - val_loss: 7.9584 - val_accuracy: 0.0962\n",
            "Epoch 100/100\n",
            "375/375 [==============================] - 1s 3ms/step - loss: 0.3527 - accuracy: 0.8912 - val_loss: 7.9956 - val_accuracy: 0.0996\n"
          ]
        },
        {
          "output_type": "execute_result",
          "data": {
            "text/plain": [
              "<keras.callbacks.History at 0x7fa948e9e3d0>"
            ]
          },
          "metadata": {},
          "execution_count": 11
        }
      ],
      "source": [
        "(train_images, train_labels), _ = mnist.load_data()\n",
        "train_images = train_images.reshape((60000, 28 * 28))\n",
        "train_images = train_images.astype(\"float32\") / 255\n",
        "\n",
        "random_train_labels = train_labels[:]\n",
        "np.random.shuffle(random_train_labels)\n",
        "\n",
        "model = keras.Sequential([\n",
        "    layers.Dense(512, activation=\"relu\"),\n",
        "    layers.Dense(10, activation=\"softmax\")\n",
        "])\n",
        "model.compile(optimizer=\"rmsprop\",\n",
        "              loss=\"sparse_categorical_crossentropy\",\n",
        "              metrics=[\"accuracy\"])\n",
        "model.fit(train_images, random_train_labels,\n",
        "          epochs=100,\n",
        "          batch_size=128,\n",
        "          validation_split=0.2)"
      ]
    },
    {
      "cell_type": "markdown",
      "metadata": {
        "id": "ICqn_Zu8DELY"
      },
      "source": [
        "#### The manifold hypothesis"
      ]
    },
    {
      "cell_type": "markdown",
      "metadata": {
        "id": "iSGTFv8qDELY"
      },
      "source": [
        "#### Interpolation as a source of generalization"
      ]
    },
    {
      "cell_type": "markdown",
      "metadata": {
        "id": "hhEt-22_DELY"
      },
      "source": [
        "#### Why deep learning works"
      ]
    },
    {
      "cell_type": "markdown",
      "metadata": {
        "id": "bgYzntGiDELY"
      },
      "source": [
        "#### Training data is paramount"
      ]
    },
    {
      "cell_type": "markdown",
      "metadata": {
        "id": "hGnO2m2EDELY"
      },
      "source": [
        "## Evaluating machine-learning models"
      ]
    },
    {
      "cell_type": "markdown",
      "metadata": {
        "id": "yYZ6kxsyDELY"
      },
      "source": [
        "### Training, validation, and test sets"
      ]
    },
    {
      "cell_type": "markdown",
      "metadata": {
        "id": "zrRnKOlDDELY"
      },
      "source": [
        "#### Simple hold-out validation"
      ]
    },
    {
      "cell_type": "markdown",
      "metadata": {
        "id": "8s4lp95QDELZ"
      },
      "source": [
        "#### K-fold validation"
      ]
    },
    {
      "cell_type": "markdown",
      "metadata": {
        "id": "XiTu2VjoDELZ"
      },
      "source": [
        "#### Iterated K-fold validation with shuffling"
      ]
    },
    {
      "cell_type": "markdown",
      "metadata": {
        "id": "F_Kk1JcQDELZ"
      },
      "source": [
        "### Beating a common-sense baseline"
      ]
    },
    {
      "cell_type": "markdown",
      "metadata": {
        "id": "i84U2caQDELZ"
      },
      "source": [
        "### Things to keep in mind about model evaluation"
      ]
    },
    {
      "cell_type": "markdown",
      "metadata": {
        "id": "EubPy9jnDELZ"
      },
      "source": [
        "## Improving model fit"
      ]
    },
    {
      "cell_type": "markdown",
      "metadata": {
        "id": "R0Tgu0EXDELZ"
      },
      "source": [
        "### Tuning key gradient descent parameters"
      ]
    },
    {
      "cell_type": "markdown",
      "metadata": {
        "id": "jRmFGjeQDELZ"
      },
      "source": [
        "**Training a MNIST model with an incorrectly high learning rate**"
      ]
    },
    {
      "cell_type": "code",
      "execution_count": 12,
      "metadata": {
        "id": "Goxxo8BbDELZ",
        "outputId": "9475c7c7-a3ce-4afc-a477-4c21e9a40de8",
        "colab": {
          "base_uri": "https://localhost:8080/"
        }
      },
      "outputs": [
        {
          "output_type": "stream",
          "name": "stdout",
          "text": [
            "Epoch 1/10\n",
            "375/375 [==============================] - 2s 4ms/step - loss: 605.3904 - accuracy: 0.3009 - val_loss: 2.2373 - val_accuracy: 0.1835\n",
            "Epoch 2/10\n",
            "375/375 [==============================] - 1s 3ms/step - loss: 3.6344 - accuracy: 0.1594 - val_loss: 2.3848 - val_accuracy: 0.1023\n",
            "Epoch 3/10\n",
            "375/375 [==============================] - 2s 4ms/step - loss: 2.4786 - accuracy: 0.1228 - val_loss: 2.2778 - val_accuracy: 0.1557\n",
            "Epoch 4/10\n",
            "375/375 [==============================] - 1s 4ms/step - loss: 2.5413 - accuracy: 0.1608 - val_loss: 2.2098 - val_accuracy: 0.1788\n",
            "Epoch 5/10\n",
            "375/375 [==============================] - 1s 3ms/step - loss: 2.5010 - accuracy: 0.1350 - val_loss: 2.4531 - val_accuracy: 0.1381\n",
            "Epoch 6/10\n",
            "375/375 [==============================] - 1s 4ms/step - loss: 2.4351 - accuracy: 0.1305 - val_loss: 2.3802 - val_accuracy: 0.1274\n",
            "Epoch 7/10\n",
            "375/375 [==============================] - 1s 3ms/step - loss: 2.5549 - accuracy: 0.1322 - val_loss: 2.4023 - val_accuracy: 0.1439\n",
            "Epoch 8/10\n",
            "375/375 [==============================] - 1s 3ms/step - loss: 2.6190 - accuracy: 0.1371 - val_loss: 2.2843 - val_accuracy: 0.1408\n",
            "Epoch 9/10\n",
            "375/375 [==============================] - 1s 3ms/step - loss: 2.4670 - accuracy: 0.1343 - val_loss: 2.5332 - val_accuracy: 0.1085\n",
            "Epoch 10/10\n",
            "375/375 [==============================] - 1s 3ms/step - loss: 2.4252 - accuracy: 0.1397 - val_loss: 2.4145 - val_accuracy: 0.1504\n"
          ]
        },
        {
          "output_type": "execute_result",
          "data": {
            "text/plain": [
              "<keras.callbacks.History at 0x7fa93fe6f790>"
            ]
          },
          "metadata": {},
          "execution_count": 12
        }
      ],
      "source": [
        "(train_images, train_labels), _ = mnist.load_data()\n",
        "train_images = train_images.reshape((60000, 28 * 28))\n",
        "train_images = train_images.astype(\"float32\") / 255\n",
        "\n",
        "model = keras.Sequential([\n",
        "    layers.Dense(512, activation=\"relu\"),\n",
        "    layers.Dense(10, activation=\"softmax\")\n",
        "])\n",
        "model.compile(optimizer=keras.optimizers.RMSprop(1.), # 0.01\n",
        "              loss=\"sparse_categorical_crossentropy\",\n",
        "              metrics=[\"accuracy\"])\n",
        "model.fit(train_images, train_labels,\n",
        "          epochs=10,\n",
        "          batch_size=128,\n",
        "          validation_split=0.2)"
      ]
    },
    {
      "cell_type": "markdown",
      "metadata": {
        "id": "IOIqVCwdDELZ"
      },
      "source": [
        "**The same model with a more appropriate learning rate**"
      ]
    },
    {
      "cell_type": "code",
      "execution_count": 13,
      "metadata": {
        "id": "Fj96nLyKDELa",
        "outputId": "db8d07d3-efef-4674-bf8a-ea8991257888",
        "colab": {
          "base_uri": "https://localhost:8080/"
        }
      },
      "outputs": [
        {
          "output_type": "stream",
          "name": "stdout",
          "text": [
            "Epoch 1/10\n",
            "375/375 [==============================] - 2s 4ms/step - loss: 0.3505 - accuracy: 0.9123 - val_loss: 0.1499 - val_accuracy: 0.9560\n",
            "Epoch 2/10\n",
            "375/375 [==============================] - 1s 3ms/step - loss: 0.1259 - accuracy: 0.9645 - val_loss: 0.1233 - val_accuracy: 0.9661\n",
            "Epoch 3/10\n",
            "375/375 [==============================] - 1s 3ms/step - loss: 0.0937 - accuracy: 0.9742 - val_loss: 0.1433 - val_accuracy: 0.9693\n",
            "Epoch 4/10\n",
            "375/375 [==============================] - 1s 3ms/step - loss: 0.0819 - accuracy: 0.9790 - val_loss: 0.1896 - val_accuracy: 0.9638\n",
            "Epoch 5/10\n",
            "375/375 [==============================] - 1s 3ms/step - loss: 0.0657 - accuracy: 0.9837 - val_loss: 0.1566 - val_accuracy: 0.9697\n",
            "Epoch 6/10\n",
            "375/375 [==============================] - 3s 8ms/step - loss: 0.0567 - accuracy: 0.9854 - val_loss: 0.1847 - val_accuracy: 0.9717\n",
            "Epoch 7/10\n",
            "375/375 [==============================] - 1s 4ms/step - loss: 0.0525 - accuracy: 0.9874 - val_loss: 0.1812 - val_accuracy: 0.9728\n",
            "Epoch 8/10\n",
            "375/375 [==============================] - 1s 3ms/step - loss: 0.0470 - accuracy: 0.9895 - val_loss: 0.2181 - val_accuracy: 0.9692\n",
            "Epoch 9/10\n",
            "375/375 [==============================] - 1s 3ms/step - loss: 0.0423 - accuracy: 0.9902 - val_loss: 0.1812 - val_accuracy: 0.9743\n",
            "Epoch 10/10\n",
            "375/375 [==============================] - 1s 3ms/step - loss: 0.0366 - accuracy: 0.9914 - val_loss: 0.1975 - val_accuracy: 0.9756\n"
          ]
        },
        {
          "output_type": "execute_result",
          "data": {
            "text/plain": [
              "<keras.callbacks.History at 0x7fa93dd6f100>"
            ]
          },
          "metadata": {},
          "execution_count": 13
        }
      ],
      "source": [
        "model = keras.Sequential([\n",
        "    layers.Dense(512, activation=\"relu\"),\n",
        "    layers.Dense(10, activation=\"softmax\")\n",
        "])\n",
        "model.compile(optimizer=keras.optimizers.RMSprop(1e-2),\n",
        "              loss=\"sparse_categorical_crossentropy\",\n",
        "              metrics=[\"accuracy\"])\n",
        "model.fit(train_images, train_labels,\n",
        "          epochs=10,\n",
        "          batch_size=128,\n",
        "          validation_split=0.2)"
      ]
    },
    {
      "cell_type": "markdown",
      "metadata": {
        "id": "xgA7zMYPDELa"
      },
      "source": [
        "### Leveraging better architecture priors"
      ]
    },
    {
      "cell_type": "markdown",
      "metadata": {
        "id": "TgTeYWK6DELa"
      },
      "source": [
        "### Increasing model capacity"
      ]
    },
    {
      "cell_type": "markdown",
      "metadata": {
        "id": "C3bdYzK6DELa"
      },
      "source": [
        "**A simple logistic regression on MNIST**"
      ]
    },
    {
      "cell_type": "code",
      "execution_count": 14,
      "metadata": {
        "id": "OVJpD1DqDELa",
        "outputId": "7fb2fffa-97c0-4167-daed-007f02dd9fdc",
        "colab": {
          "base_uri": "https://localhost:8080/"
        }
      },
      "outputs": [
        {
          "output_type": "stream",
          "name": "stdout",
          "text": [
            "Epoch 1/20\n",
            "375/375 [==============================] - 2s 3ms/step - loss: 0.6581 - accuracy: 0.8387 - val_loss: 0.3570 - val_accuracy: 0.9049\n",
            "Epoch 2/20\n",
            "375/375 [==============================] - 1s 3ms/step - loss: 0.3514 - accuracy: 0.9026 - val_loss: 0.3108 - val_accuracy: 0.9124\n",
            "Epoch 3/20\n",
            "375/375 [==============================] - 1s 3ms/step - loss: 0.3175 - accuracy: 0.9119 - val_loss: 0.2934 - val_accuracy: 0.9188\n",
            "Epoch 4/20\n",
            "375/375 [==============================] - 1s 3ms/step - loss: 0.3018 - accuracy: 0.9161 - val_loss: 0.2860 - val_accuracy: 0.9205\n",
            "Epoch 5/20\n",
            "375/375 [==============================] - 1s 3ms/step - loss: 0.2923 - accuracy: 0.9184 - val_loss: 0.2800 - val_accuracy: 0.9218\n",
            "Epoch 6/20\n",
            "375/375 [==============================] - 1s 4ms/step - loss: 0.2856 - accuracy: 0.9206 - val_loss: 0.2768 - val_accuracy: 0.9215\n",
            "Epoch 7/20\n",
            "375/375 [==============================] - 1s 3ms/step - loss: 0.2809 - accuracy: 0.9220 - val_loss: 0.2732 - val_accuracy: 0.9251\n",
            "Epoch 8/20\n",
            "375/375 [==============================] - 1s 3ms/step - loss: 0.2767 - accuracy: 0.9234 - val_loss: 0.2711 - val_accuracy: 0.9258\n",
            "Epoch 9/20\n",
            "375/375 [==============================] - 1s 3ms/step - loss: 0.2737 - accuracy: 0.9237 - val_loss: 0.2687 - val_accuracy: 0.9277\n",
            "Epoch 10/20\n",
            "375/375 [==============================] - 1s 3ms/step - loss: 0.2711 - accuracy: 0.9245 - val_loss: 0.2681 - val_accuracy: 0.9266\n",
            "Epoch 11/20\n",
            "375/375 [==============================] - 1s 3ms/step - loss: 0.2688 - accuracy: 0.9253 - val_loss: 0.2683 - val_accuracy: 0.9268\n",
            "Epoch 12/20\n",
            "375/375 [==============================] - 1s 3ms/step - loss: 0.2666 - accuracy: 0.9266 - val_loss: 0.2667 - val_accuracy: 0.9283\n",
            "Epoch 13/20\n",
            "375/375 [==============================] - 1s 3ms/step - loss: 0.2647 - accuracy: 0.9270 - val_loss: 0.2671 - val_accuracy: 0.9276\n",
            "Epoch 14/20\n",
            "375/375 [==============================] - 1s 3ms/step - loss: 0.2631 - accuracy: 0.9272 - val_loss: 0.2659 - val_accuracy: 0.9287\n",
            "Epoch 15/20\n",
            "375/375 [==============================] - 1s 3ms/step - loss: 0.2619 - accuracy: 0.9279 - val_loss: 0.2650 - val_accuracy: 0.9268\n",
            "Epoch 16/20\n",
            "375/375 [==============================] - 1s 3ms/step - loss: 0.2606 - accuracy: 0.9286 - val_loss: 0.2634 - val_accuracy: 0.9291\n",
            "Epoch 17/20\n",
            "375/375 [==============================] - 1s 4ms/step - loss: 0.2594 - accuracy: 0.9287 - val_loss: 0.2639 - val_accuracy: 0.9287\n",
            "Epoch 18/20\n",
            "375/375 [==============================] - 1s 3ms/step - loss: 0.2582 - accuracy: 0.9288 - val_loss: 0.2631 - val_accuracy: 0.9302\n",
            "Epoch 19/20\n",
            "375/375 [==============================] - 1s 3ms/step - loss: 0.2574 - accuracy: 0.9291 - val_loss: 0.2657 - val_accuracy: 0.9277\n",
            "Epoch 20/20\n",
            "375/375 [==============================] - 1s 3ms/step - loss: 0.2562 - accuracy: 0.9296 - val_loss: 0.2635 - val_accuracy: 0.9287\n"
          ]
        }
      ],
      "source": [
        "model = keras.Sequential([layers.Dense(10, activation=\"softmax\")])\n",
        "model.compile(optimizer=\"rmsprop\",\n",
        "              loss=\"sparse_categorical_crossentropy\",\n",
        "              metrics=[\"accuracy\"])\n",
        "history_small_model = model.fit(\n",
        "    train_images, train_labels,\n",
        "    epochs=20,\n",
        "    batch_size=128,\n",
        "    validation_split=0.2)"
      ]
    },
    {
      "cell_type": "code",
      "execution_count": 15,
      "metadata": {
        "id": "KXkOMqcpDELa",
        "outputId": "7f65503d-de50-435d-c99e-c5ff560009c0",
        "colab": {
          "base_uri": "https://localhost:8080/",
          "height": 490
        }
      },
      "outputs": [
        {
          "output_type": "execute_result",
          "data": {
            "text/plain": [
              "<matplotlib.legend.Legend at 0x7fa93f569460>"
            ]
          },
          "metadata": {},
          "execution_count": 15
        },
        {
          "output_type": "display_data",
          "data": {
            "text/plain": [
              "<Figure size 640x480 with 1 Axes>"
            ],
            "image/png": "[encoded data removed]"
          },
          "metadata": {}
        }
      ],
      "source": [
        "import matplotlib.pyplot as plt\n",
        "val_loss = history_small_model.history[\"val_loss\"]\n",
        "epochs = range(1, 21)\n",
        "plt.plot(epochs, val_loss, \"b--\",\n",
        "         label=\"Validation loss\")\n",
        "plt.title(\"Effect of insufficient model capacity on validation loss\")\n",
        "plt.xlabel(\"Epochs\")\n",
        "plt.ylabel(\"Loss\")\n",
        "plt.legend()"
      ]
    },
    {
      "cell_type": "code",
      "execution_count": 16,
      "metadata": {
        "id": "87EZmUKSDELa",
        "outputId": "d9bb1662-fd4a-4160-d515-5819567a3a8e",
        "colab": {
          "base_uri": "https://localhost:8080/"
        }
      },
      "outputs": [
        {
          "output_type": "stream",
          "name": "stdout",
          "text": [
            "Epoch 1/20\n",
            "375/375 [==============================] - 3s 5ms/step - loss: 0.3635 - accuracy: 0.8971 - val_loss: 0.1931 - val_accuracy: 0.9435\n",
            "Epoch 2/20\n",
            "375/375 [==============================] - 1s 3ms/step - loss: 0.1615 - accuracy: 0.9527 - val_loss: 0.1306 - val_accuracy: 0.9627\n",
            "Epoch 3/20\n",
            "375/375 [==============================] - 2s 4ms/step - loss: 0.1155 - accuracy: 0.9656 - val_loss: 0.1146 - val_accuracy: 0.9653\n",
            "Epoch 4/20\n",
            "375/375 [==============================] - 2s 4ms/step - loss: 0.0893 - accuracy: 0.9726 - val_loss: 0.1033 - val_accuracy: 0.9705\n",
            "Epoch 5/20\n",
            "375/375 [==============================] - 1s 3ms/step - loss: 0.0717 - accuracy: 0.9776 - val_loss: 0.1036 - val_accuracy: 0.9713\n",
            "Epoch 6/20\n",
            "375/375 [==============================] - 1s 3ms/step - loss: 0.0580 - accuracy: 0.9825 - val_loss: 0.0935 - val_accuracy: 0.9722\n",
            "Epoch 7/20\n",
            "375/375 [==============================] - 1s 3ms/step - loss: 0.0488 - accuracy: 0.9854 - val_loss: 0.0906 - val_accuracy: 0.9741\n",
            "Epoch 8/20\n",
            "375/375 [==============================] - 1s 3ms/step - loss: 0.0405 - accuracy: 0.9879 - val_loss: 0.0880 - val_accuracy: 0.9747\n",
            "Epoch 9/20\n",
            "375/375 [==============================] - 1s 4ms/step - loss: 0.0337 - accuracy: 0.9899 - val_loss: 0.1064 - val_accuracy: 0.9678\n",
            "Epoch 10/20\n",
            "375/375 [==============================] - 2s 4ms/step - loss: 0.0285 - accuracy: 0.9910 - val_loss: 0.0886 - val_accuracy: 0.9741\n",
            "Epoch 11/20\n",
            "375/375 [==============================] - 1s 3ms/step - loss: 0.0238 - accuracy: 0.9925 - val_loss: 0.0939 - val_accuracy: 0.9736\n",
            "Epoch 12/20\n",
            "375/375 [==============================] - 1s 3ms/step - loss: 0.0214 - accuracy: 0.9937 - val_loss: 0.0987 - val_accuracy: 0.9748\n",
            "Epoch 13/20\n",
            "375/375 [==============================] - 1s 3ms/step - loss: 0.0178 - accuracy: 0.9946 - val_loss: 0.0954 - val_accuracy: 0.9756\n",
            "Epoch 14/20\n",
            "375/375 [==============================] - 1s 3ms/step - loss: 0.0151 - accuracy: 0.9955 - val_loss: 0.1026 - val_accuracy: 0.9743\n",
            "Epoch 15/20\n",
            "375/375 [==============================] - 1s 3ms/step - loss: 0.0122 - accuracy: 0.9965 - val_loss: 0.1032 - val_accuracy: 0.9746\n",
            "Epoch 16/20\n",
            "375/375 [==============================] - 1s 3ms/step - loss: 0.0106 - accuracy: 0.9971 - val_loss: 0.1106 - val_accuracy: 0.9753\n",
            "Epoch 17/20\n",
            "375/375 [==============================] - 1s 3ms/step - loss: 0.0087 - accuracy: 0.9976 - val_loss: 0.1134 - val_accuracy: 0.9749\n",
            "Epoch 18/20\n",
            "375/375 [==============================] - 1s 3ms/step - loss: 0.0078 - accuracy: 0.9978 - val_loss: 0.1083 - val_accuracy: 0.9762\n",
            "Epoch 19/20\n",
            "375/375 [==============================] - 1s 4ms/step - loss: 0.0067 - accuracy: 0.9979 - val_loss: 0.1153 - val_accuracy: 0.9747\n",
            "Epoch 20/20\n",
            "375/375 [==============================] - 1s 4ms/step - loss: 0.0061 - accuracy: 0.9983 - val_loss: 0.1379 - val_accuracy: 0.9743\n"
          ]
        }
      ],
      "source": [
        "model = keras.Sequential([\n",
        "    layers.Dense(96, activation=\"relu\"),\n",
        "    layers.Dense(96, activation=\"relu\"),\n",
        "    layers.Dense(10, activation=\"softmax\"),\n",
        "])\n",
        "model.compile(optimizer=\"rmsprop\",\n",
        "              loss=\"sparse_categorical_crossentropy\",\n",
        "              metrics=[\"accuracy\"])\n",
        "history_large_model = model.fit(\n",
        "    train_images, train_labels,\n",
        "    epochs=20,\n",
        "    batch_size=128,\n",
        "    validation_split=0.2)"
      ]
    },
    {
      "cell_type": "code",
      "source": [
        "import matplotlib.pyplot as plt\n",
        "val_loss = history_large_model.history[\"val_loss\"]\n",
        "epochs = range(1, 21)\n",
        "plt.plot(epochs, val_loss, \"b--\",\n",
        "         label=\"Validation loss\")\n",
        "plt.title(\"Effect of inlarger model capacity on validation loss\")\n",
        "plt.xlabel(\"Epochs\")\n",
        "plt.ylabel(\"Loss\")\n",
        "plt.legend()"
      ],
      "metadata": {
        "id": "epzaPdO_V1k3",
        "outputId": "c2c32530-e736-4be1-9803-24c156f09ad7",
        "colab": {
          "base_uri": "https://localhost:8080/",
          "height": 490
        }
      },
      "execution_count": 18,
      "outputs": [
        {
          "output_type": "execute_result",
          "data": {
            "text/plain": [
              "<matplotlib.legend.Legend at 0x7fa93f3e4d30>"
            ]
          },
          "metadata": {},
          "execution_count": 18
        },
        {
          "output_type": "display_data",
          "data": {
            "text/plain": [
              "<Figure size 640x480 with 1 Axes>"
            ],
            "image/png": "[encoded data removed]"
          },
          "metadata": {}
        }
      ]
    },
    {
      "cell_type": "markdown",
      "metadata": {
        "id": "Cu-uyBLZDELb"
      },
      "source": [
        "## Improving generalization"
      ]
    },
    {
      "cell_type": "markdown",
      "metadata": {
        "id": "ppVZl9soDELb"
      },
      "source": [
        "### Dataset curation"
      ]
    },
    {
      "cell_type": "markdown",
      "metadata": {
        "id": "8kJagDlLDELb"
      },
      "source": [
        "### Feature engineering"
      ]
    },
    {
      "cell_type": "markdown",
      "metadata": {
        "id": "Pyjca3H6DELb"
      },
      "source": [
        "### Using early stopping"
      ]
    },
    {
      "cell_type": "markdown",
      "metadata": {
        "id": "fIaMCg6-DELb"
      },
      "source": [
        "### Regularizing your model"
      ]
    },
    {
      "cell_type": "markdown",
      "metadata": {
        "id": "KWeOuD2fDELb"
      },
      "source": [
        "#### Reducing the network's size"
      ]
    },
    {
      "cell_type": "markdown",
      "metadata": {
        "id": "Jj6XLhe5DELb"
      },
      "source": [
        "**Original model**"
      ]
    },
    {
      "cell_type": "code",
      "execution_count": 19,
      "metadata": {
        "id": "ScdZ0Pg_DELb",
        "outputId": "ec72c6ab-3393-45dc-95a3-8a2cdf7fca75",
        "colab": {
          "base_uri": "https://localhost:8080/"
        }
      },
      "outputs": [
        {
          "output_type": "stream",
          "name": "stdout",
          "text": [
            "Downloading data from https://storage.googleapis.com/tensorflow/tf-keras-datasets/imdb.npz\n",
            "17464789/17464789 [==============================] - 2s 0us/step\n",
            "Epoch 1/20\n",
            "30/30 [==============================] - 3s 56ms/step - loss: 0.5702 - accuracy: 0.7483 - val_loss: 0.4621 - val_accuracy: 0.8310\n",
            "Epoch 2/20\n",
            "30/30 [==============================] - 1s 25ms/step - loss: 0.3819 - accuracy: 0.8856 - val_loss: 0.3733 - val_accuracy: 0.8532\n",
            "Epoch 3/20\n",
            "30/30 [==============================] - 1s 25ms/step - loss: 0.2874 - accuracy: 0.9087 - val_loss: 0.3093 - val_accuracy: 0.8868\n",
            "Epoch 4/20\n",
            "30/30 [==============================] - 1s 25ms/step - loss: 0.2297 - accuracy: 0.9276 - val_loss: 0.2858 - val_accuracy: 0.8881\n",
            "Epoch 5/20\n",
            "30/30 [==============================] - 1s 28ms/step - loss: 0.1890 - accuracy: 0.9407 - val_loss: 0.2830 - val_accuracy: 0.8869\n",
            "Epoch 6/20\n",
            "30/30 [==============================] - 1s 29ms/step - loss: 0.1610 - accuracy: 0.9492 - val_loss: 0.2983 - val_accuracy: 0.8807\n",
            "Epoch 7/20\n",
            "30/30 [==============================] - 1s 29ms/step - loss: 0.1388 - accuracy: 0.9571 - val_loss: 0.2929 - val_accuracy: 0.8882\n",
            "Epoch 8/20\n",
            "30/30 [==============================] - 1s 22ms/step - loss: 0.1202 - accuracy: 0.9635 - val_loss: 0.3056 - val_accuracy: 0.8848\n",
            "Epoch 9/20\n",
            "30/30 [==============================] - 1s 21ms/step - loss: 0.1057 - accuracy: 0.9688 - val_loss: 0.3356 - val_accuracy: 0.8773\n",
            "Epoch 10/20\n",
            "30/30 [==============================] - 1s 22ms/step - loss: 0.0927 - accuracy: 0.9743 - val_loss: 0.3260 - val_accuracy: 0.8836\n",
            "Epoch 11/20\n",
            "30/30 [==============================] - 1s 22ms/step - loss: 0.0806 - accuracy: 0.9789 - val_loss: 0.3425 - val_accuracy: 0.8814\n",
            "Epoch 12/20\n",
            "30/30 [==============================] - 1s 21ms/step - loss: 0.0700 - accuracy: 0.9818 - val_loss: 0.3780 - val_accuracy: 0.8765\n",
            "Epoch 13/20\n",
            "30/30 [==============================] - 1s 22ms/step - loss: 0.0599 - accuracy: 0.9857 - val_loss: 0.3809 - val_accuracy: 0.8774\n",
            "Epoch 14/20\n",
            "30/30 [==============================] - 1s 25ms/step - loss: 0.0517 - accuracy: 0.9895 - val_loss: 0.4002 - val_accuracy: 0.8770\n",
            "Epoch 15/20\n",
            "30/30 [==============================] - 1s 21ms/step - loss: 0.0449 - accuracy: 0.9909 - val_loss: 0.4242 - val_accuracy: 0.8756\n",
            "Epoch 16/20\n",
            "30/30 [==============================] - 1s 24ms/step - loss: 0.0388 - accuracy: 0.9926 - val_loss: 0.4463 - val_accuracy: 0.8736\n",
            "Epoch 17/20\n",
            "30/30 [==============================] - 1s 22ms/step - loss: 0.0325 - accuracy: 0.9947 - val_loss: 0.4790 - val_accuracy: 0.8727\n",
            "Epoch 18/20\n",
            "30/30 [==============================] - 1s 23ms/step - loss: 0.0291 - accuracy: 0.9958 - val_loss: 0.4945 - val_accuracy: 0.8716\n",
            "Epoch 19/20\n",
            "30/30 [==============================] - 1s 25ms/step - loss: 0.0266 - accuracy: 0.9952 - val_loss: 0.5192 - val_accuracy: 0.8706\n",
            "Epoch 20/20\n",
            "30/30 [==============================] - 1s 21ms/step - loss: 0.0211 - accuracy: 0.9976 - val_loss: 0.6126 - val_accuracy: 0.8656\n"
          ]
        }
      ],
      "source": [
        "from tensorflow.keras.datasets import imdb\n",
        "(train_data, train_labels), _ = imdb.load_data(num_words=10000)\n",
        "\n",
        "def vectorize_sequences(sequences, dimension=10000):\n",
        "    results = np.zeros((len(sequences), dimension))\n",
        "    for i, sequence in enumerate(sequences):\n",
        "        results[i, sequence] = 1.\n",
        "    return results\n",
        "train_data = vectorize_sequences(train_data)\n",
        "\n",
        "model = keras.Sequential([\n",
        "    layers.Dense(16, activation=\"relu\"),\n",
        "    layers.Dense(16, activation=\"relu\"),\n",
        "    layers.Dense(1, activation=\"sigmoid\")\n",
        "])\n",
        "model.compile(optimizer=\"rmsprop\",\n",
        "              loss=\"binary_crossentropy\",\n",
        "              metrics=[\"accuracy\"])\n",
        "history_original = model.fit(train_data, train_labels,\n",
        "                             epochs=20, batch_size=512, validation_split=0.4)"
      ]
    },
    {
      "cell_type": "markdown",
      "metadata": {
        "id": "BmeoZD7rDELc"
      },
      "source": [
        "**Version of the model with lower capacity**"
      ]
    },
    {
      "cell_type": "code",
      "execution_count": 20,
      "metadata": {
        "id": "185wbkLwDELc",
        "outputId": "3ef36c59-bd6f-43ee-f6cc-a868e65ad1cb",
        "colab": {
          "base_uri": "https://localhost:8080/"
        }
      },
      "outputs": [
        {
          "output_type": "stream",
          "name": "stdout",
          "text": [
            "Epoch 1/20\n",
            "30/30 [==============================] - 3s 55ms/step - loss: 0.6582 - accuracy: 0.5887 - val_loss: 0.6223 - val_accuracy: 0.6324\n",
            "Epoch 2/20\n",
            "30/30 [==============================] - 1s 22ms/step - loss: 0.5909 - accuracy: 0.7277 - val_loss: 0.5738 - val_accuracy: 0.8025\n",
            "Epoch 3/20\n",
            "30/30 [==============================] - 1s 22ms/step - loss: 0.5399 - accuracy: 0.8041 - val_loss: 0.5299 - val_accuracy: 0.8143\n",
            "Epoch 4/20\n",
            "30/30 [==============================] - 1s 22ms/step - loss: 0.4843 - accuracy: 0.8587 - val_loss: 0.4738 - val_accuracy: 0.8585\n",
            "Epoch 5/20\n",
            "30/30 [==============================] - 1s 25ms/step - loss: 0.4195 - accuracy: 0.8901 - val_loss: 0.4193 - val_accuracy: 0.8732\n",
            "Epoch 6/20\n",
            "30/30 [==============================] - 1s 20ms/step - loss: 0.3598 - accuracy: 0.9060 - val_loss: 0.3736 - val_accuracy: 0.8772\n",
            "Epoch 7/20\n",
            "30/30 [==============================] - 1s 38ms/step - loss: 0.3099 - accuracy: 0.9151 - val_loss: 0.3406 - val_accuracy: 0.8789\n",
            "Epoch 8/20\n",
            "30/30 [==============================] - 1s 30ms/step - loss: 0.2698 - accuracy: 0.9237 - val_loss: 0.3194 - val_accuracy: 0.8818\n",
            "Epoch 9/20\n",
            "30/30 [==============================] - 1s 27ms/step - loss: 0.2388 - accuracy: 0.9301 - val_loss: 0.2965 - val_accuracy: 0.8872\n",
            "Epoch 10/20\n",
            "30/30 [==============================] - 1s 21ms/step - loss: 0.2134 - accuracy: 0.9359 - val_loss: 0.2861 - val_accuracy: 0.8883\n",
            "Epoch 11/20\n",
            "30/30 [==============================] - 1s 25ms/step - loss: 0.1928 - accuracy: 0.9403 - val_loss: 0.2815 - val_accuracy: 0.8882\n",
            "Epoch 12/20\n",
            "30/30 [==============================] - 1s 24ms/step - loss: 0.1757 - accuracy: 0.9464 - val_loss: 0.2790 - val_accuracy: 0.8891\n",
            "Epoch 13/20\n",
            "30/30 [==============================] - 1s 21ms/step - loss: 0.1611 - accuracy: 0.9507 - val_loss: 0.2777 - val_accuracy: 0.8882\n",
            "Epoch 14/20\n",
            "30/30 [==============================] - 1s 22ms/step - loss: 0.1483 - accuracy: 0.9556 - val_loss: 0.2864 - val_accuracy: 0.8875\n",
            "Epoch 15/20\n",
            "30/30 [==============================] - 1s 21ms/step - loss: 0.1368 - accuracy: 0.9593 - val_loss: 0.2814 - val_accuracy: 0.8886\n",
            "Epoch 16/20\n",
            "30/30 [==============================] - 1s 22ms/step - loss: 0.1267 - accuracy: 0.9630 - val_loss: 0.2858 - val_accuracy: 0.8888\n",
            "Epoch 17/20\n",
            "30/30 [==============================] - 1s 21ms/step - loss: 0.1171 - accuracy: 0.9666 - val_loss: 0.2934 - val_accuracy: 0.8867\n",
            "Epoch 18/20\n",
            "30/30 [==============================] - 1s 22ms/step - loss: 0.1087 - accuracy: 0.9697 - val_loss: 0.3000 - val_accuracy: 0.8866\n",
            "Epoch 19/20\n",
            "30/30 [==============================] - 1s 24ms/step - loss: 0.1010 - accuracy: 0.9724 - val_loss: 0.3064 - val_accuracy: 0.8871\n",
            "Epoch 20/20\n",
            "30/30 [==============================] - 1s 21ms/step - loss: 0.0939 - accuracy: 0.9749 - val_loss: 0.3140 - val_accuracy: 0.8859\n"
          ]
        }
      ],
      "source": [
        "model = keras.Sequential([\n",
        "    layers.Dense(4, activation=\"relu\"),\n",
        "    layers.Dense(4, activation=\"relu\"),\n",
        "    layers.Dense(1, activation=\"sigmoid\")\n",
        "])\n",
        "model.compile(optimizer=\"rmsprop\",\n",
        "              loss=\"binary_crossentropy\",\n",
        "              metrics=[\"accuracy\"])\n",
        "history_smaller_model = model.fit(\n",
        "    train_data, train_labels,\n",
        "    epochs=20, batch_size=512, validation_split=0.4)"
      ]
    },
    {
      "cell_type": "markdown",
      "metadata": {
        "id": "q1Nzl0GBDELc"
      },
      "source": [
        "**Version of the model with higher capacity**"
      ]
    },
    {
      "cell_type": "code",
      "execution_count": 21,
      "metadata": {
        "id": "a89M3vXYDELc",
        "outputId": "20b4ac0f-489d-41eb-f845-2c3542f3a081",
        "colab": {
          "base_uri": "https://localhost:8080/"
        }
      },
      "outputs": [
        {
          "output_type": "stream",
          "name": "stdout",
          "text": [
            "Epoch 1/20\n",
            "30/30 [==============================] - 3s 68ms/step - loss: 0.5420 - accuracy: 0.7469 - val_loss: 0.9972 - val_accuracy: 0.5832\n",
            "Epoch 2/20\n",
            "30/30 [==============================] - 1s 28ms/step - loss: 0.3538 - accuracy: 0.8560 - val_loss: 0.2944 - val_accuracy: 0.8821\n",
            "Epoch 3/20\n",
            "30/30 [==============================] - 1s 27ms/step - loss: 0.2336 - accuracy: 0.9090 - val_loss: 0.3981 - val_accuracy: 0.8228\n",
            "Epoch 4/20\n",
            "30/30 [==============================] - 1s 26ms/step - loss: 0.1835 - accuracy: 0.9291 - val_loss: 0.3576 - val_accuracy: 0.8499\n",
            "Epoch 5/20\n",
            "30/30 [==============================] - 1s 28ms/step - loss: 0.1381 - accuracy: 0.9498 - val_loss: 0.3004 - val_accuracy: 0.8821\n",
            "Epoch 6/20\n",
            "30/30 [==============================] - 1s 26ms/step - loss: 0.1246 - accuracy: 0.9505 - val_loss: 0.2964 - val_accuracy: 0.8870\n",
            "Epoch 7/20\n",
            "30/30 [==============================] - 1s 25ms/step - loss: 0.0793 - accuracy: 0.9727 - val_loss: 0.3374 - val_accuracy: 0.8817\n",
            "Epoch 8/20\n",
            "30/30 [==============================] - 1s 26ms/step - loss: 0.0728 - accuracy: 0.9784 - val_loss: 0.3361 - val_accuracy: 0.8855\n",
            "Epoch 9/20\n",
            "30/30 [==============================] - 1s 28ms/step - loss: 0.0157 - accuracy: 0.9977 - val_loss: 0.4639 - val_accuracy: 0.8803\n",
            "Epoch 10/20\n",
            "30/30 [==============================] - 1s 27ms/step - loss: 0.0843 - accuracy: 0.9795 - val_loss: 0.4163 - val_accuracy: 0.8840\n",
            "Epoch 11/20\n",
            "30/30 [==============================] - 1s 26ms/step - loss: 0.0058 - accuracy: 0.9995 - val_loss: 0.5230 - val_accuracy: 0.8797\n",
            "Epoch 12/20\n",
            "30/30 [==============================] - 1s 26ms/step - loss: 0.0938 - accuracy: 0.9821 - val_loss: 0.4113 - val_accuracy: 0.8817\n",
            "Epoch 13/20\n",
            "30/30 [==============================] - 1s 28ms/step - loss: 0.0045 - accuracy: 1.0000 - val_loss: 0.4945 - val_accuracy: 0.8834\n",
            "Epoch 14/20\n",
            "30/30 [==============================] - 1s 29ms/step - loss: 0.0019 - accuracy: 1.0000 - val_loss: 0.5705 - val_accuracy: 0.8831\n",
            "Epoch 15/20\n",
            "30/30 [==============================] - 1s 33ms/step - loss: 0.0011 - accuracy: 1.0000 - val_loss: 0.7039 - val_accuracy: 0.8645\n",
            "Epoch 16/20\n",
            "30/30 [==============================] - 1s 32ms/step - loss: 0.0960 - accuracy: 0.9803 - val_loss: 0.5051 - val_accuracy: 0.8827\n",
            "Epoch 17/20\n",
            "30/30 [==============================] - 1s 26ms/step - loss: 0.0014 - accuracy: 1.0000 - val_loss: 0.5870 - val_accuracy: 0.8828\n",
            "Epoch 18/20\n",
            "30/30 [==============================] - 1s 26ms/step - loss: 7.2858e-04 - accuracy: 1.0000 - val_loss: 0.6516 - val_accuracy: 0.8817\n",
            "Epoch 19/20\n",
            "30/30 [==============================] - 1s 28ms/step - loss: 4.5886e-04 - accuracy: 1.0000 - val_loss: 0.6810 - val_accuracy: 0.8838\n",
            "Epoch 20/20\n",
            "30/30 [==============================] - 1s 25ms/step - loss: 3.2142e-04 - accuracy: 1.0000 - val_loss: 0.7126 - val_accuracy: 0.8837\n"
          ]
        }
      ],
      "source": [
        "model = keras.Sequential([\n",
        "    layers.Dense(512, activation=\"relu\"),\n",
        "    layers.Dense(512, activation=\"relu\"),\n",
        "    layers.Dense(1, activation=\"sigmoid\")\n",
        "])\n",
        "model.compile(optimizer=\"rmsprop\",\n",
        "              loss=\"binary_crossentropy\",\n",
        "              metrics=[\"accuracy\"])\n",
        "history_larger_model = model.fit(\n",
        "    train_data, train_labels,\n",
        "    epochs=20, batch_size=512, validation_split=0.4)"
      ]
    },
    {
      "cell_type": "code",
      "source": [
        "import matplotlib.pyplot as plt\n",
        "val_acc_original = history_original.history[\"val_accuracy\"]\n",
        "val_acc_larger = history_larger_model.history[\"val_accuracy\"]\n",
        "val_acc_smaller = history_smaller_model.history[\"val_accuracy\"]\n",
        "epochs = range(1, 21)\n",
        "plt.plot(epochs, val_acc_original, \"b-\",\n",
        "         label=\"Validation accuracy with original\")\n",
        "plt.plot(epochs, val_acc_larger, \"r--\",\n",
        "         label=\"Validation accuracy with larger\")\n",
        "plt.plot(epochs, val_acc_smaller, \"g--\",\n",
        "         label=\"Validation accuracy with smaller\")\n",
        "plt.title(\"validation accuracy\")\n",
        "plt.xlabel(\"Epochs\")\n",
        "plt.ylabel(\"Accuracy\")\n",
        "plt.legend()"
      ],
      "metadata": {
        "id": "iJhtAbIqWwBb",
        "outputId": "6d9ce44a-de6d-4e45-b880-446564e8fc44",
        "colab": {
          "base_uri": "https://localhost:8080/",
          "height": 490
        }
      },
      "execution_count": 24,
      "outputs": [
        {
          "output_type": "execute_result",
          "data": {
            "text/plain": [
              "<matplotlib.legend.Legend at 0x7fa9447593d0>"
            ]
          },
          "metadata": {},
          "execution_count": 24
        },
        {
          "output_type": "display_data",
          "data": {
            "text/plain": [
              "<Figure size 640x480 with 1 Axes>"
            ],
            "image/png": "[encoded data removed]"
          },
          "metadata": {}
        }
      ]
    },
    {
      "cell_type": "markdown",
      "metadata": {
        "id": "GW9ImndoDELc"
      },
      "source": [
        "#### Adding weight regularization"
      ]
    },
    {
      "cell_type": "markdown",
      "metadata": {
        "id": "XL-QQdhXDELc"
      },
      "source": [
        "**Adding L2 weight regularization to the model**"
      ]
    },
    {
      "cell_type": "code",
      "execution_count": 25,
      "metadata": {
        "id": "VYHyCwkzDELc",
        "outputId": "78a53335-6642-4aab-944e-83a785fc6c6a",
        "colab": {
          "base_uri": "https://localhost:8080/"
        }
      },
      "outputs": [
        {
          "output_type": "stream",
          "name": "stdout",
          "text": [
            "Epoch 1/20\n",
            "30/30 [==============================] - 3s 58ms/step - loss: 0.6595 - accuracy: 0.7642 - val_loss: 0.5354 - val_accuracy: 0.8457\n",
            "Epoch 2/20\n",
            "30/30 [==============================] - 1s 27ms/step - loss: 0.4582 - accuracy: 0.8769 - val_loss: 0.4218 - val_accuracy: 0.8754\n",
            "Epoch 3/20\n",
            "30/30 [==============================] - 1s 28ms/step - loss: 0.3666 - accuracy: 0.8983 - val_loss: 0.3774 - val_accuracy: 0.8828\n",
            "Epoch 4/20\n",
            "30/30 [==============================] - 1s 24ms/step - loss: 0.3197 - accuracy: 0.9131 - val_loss: 0.3860 - val_accuracy: 0.8700\n",
            "Epoch 5/20\n",
            "30/30 [==============================] - 1s 24ms/step - loss: 0.2945 - accuracy: 0.9219 - val_loss: 0.3605 - val_accuracy: 0.8820\n",
            "Epoch 6/20\n",
            "30/30 [==============================] - 1s 23ms/step - loss: 0.2718 - accuracy: 0.9321 - val_loss: 0.3694 - val_accuracy: 0.8775\n",
            "Epoch 7/20\n",
            "30/30 [==============================] - 1s 24ms/step - loss: 0.2612 - accuracy: 0.9355 - val_loss: 0.3696 - val_accuracy: 0.8804\n",
            "Epoch 8/20\n",
            "30/30 [==============================] - 1s 25ms/step - loss: 0.2472 - accuracy: 0.9417 - val_loss: 0.3600 - val_accuracy: 0.8835\n",
            "Epoch 9/20\n",
            "30/30 [==============================] - 1s 22ms/step - loss: 0.2429 - accuracy: 0.9421 - val_loss: 0.3820 - val_accuracy: 0.8742\n",
            "Epoch 10/20\n",
            "30/30 [==============================] - 1s 21ms/step - loss: 0.2307 - accuracy: 0.9483 - val_loss: 0.3631 - val_accuracy: 0.8830\n",
            "Epoch 11/20\n",
            "30/30 [==============================] - 1s 22ms/step - loss: 0.2256 - accuracy: 0.9506 - val_loss: 0.4059 - val_accuracy: 0.8717\n",
            "Epoch 12/20\n",
            "30/30 [==============================] - 1s 21ms/step - loss: 0.2197 - accuracy: 0.9544 - val_loss: 0.3737 - val_accuracy: 0.8805\n",
            "Epoch 13/20\n",
            "30/30 [==============================] - 1s 24ms/step - loss: 0.2196 - accuracy: 0.9513 - val_loss: 0.3811 - val_accuracy: 0.8780\n",
            "Epoch 14/20\n",
            "30/30 [==============================] - 1s 30ms/step - loss: 0.2109 - accuracy: 0.9571 - val_loss: 0.3817 - val_accuracy: 0.8788\n",
            "Epoch 15/20\n",
            "30/30 [==============================] - 1s 22ms/step - loss: 0.2076 - accuracy: 0.9585 - val_loss: 0.3859 - val_accuracy: 0.8788\n",
            "Epoch 16/20\n",
            "30/30 [==============================] - 1s 23ms/step - loss: 0.2069 - accuracy: 0.9579 - val_loss: 0.3922 - val_accuracy: 0.8768\n",
            "Epoch 17/20\n",
            "30/30 [==============================] - 1s 22ms/step - loss: 0.2014 - accuracy: 0.9606 - val_loss: 0.3963 - val_accuracy: 0.8761\n",
            "Epoch 18/20\n",
            "30/30 [==============================] - 1s 48ms/step - loss: 0.2015 - accuracy: 0.9588 - val_loss: 0.3981 - val_accuracy: 0.8770\n",
            "Epoch 19/20\n",
            "30/30 [==============================] - 1s 46ms/step - loss: 0.1972 - accuracy: 0.9617 - val_loss: 0.4046 - val_accuracy: 0.8743\n",
            "Epoch 20/20\n",
            "30/30 [==============================] - 1s 29ms/step - loss: 0.1950 - accuracy: 0.9613 - val_loss: 0.4273 - val_accuracy: 0.8693\n"
          ]
        }
      ],
      "source": [
        "from tensorflow.keras import regularizers\n",
        "model = keras.Sequential([\n",
        "    layers.Dense(16,\n",
        "                 kernel_regularizer=regularizers.l2(0.002),\n",
        "                 activation=\"relu\"),\n",
        "    layers.Dense(16,\n",
        "                 kernel_regularizer=regularizers.l2(0.002),\n",
        "                 activation=\"relu\"),\n",
        "    layers.Dense(1, activation=\"sigmoid\")\n",
        "])\n",
        "model.compile(optimizer=\"rmsprop\",\n",
        "              loss=\"binary_crossentropy\",\n",
        "              metrics=[\"accuracy\"])\n",
        "history_l2_reg = model.fit(\n",
        "    train_data, train_labels,\n",
        "    epochs=20, batch_size=512, validation_split=0.4)"
      ]
    },
    {
      "cell_type": "code",
      "source": [
        "import matplotlib.pyplot as plt\n",
        "val_acc_original = history_original.history[\"val_accuracy\"]\n",
        "val_acc_l2 = history_l2_reg.history[\"val_accuracy\"]\n",
        "epochs = range(1, 21)\n",
        "plt.plot(epochs, val_acc_original, \"b-\",\n",
        "         label=\"Validation accuracy with original\")\n",
        "plt.plot(epochs, val_acc_l2, \"r--\",\n",
        "         label=\"Validation accuracy with l2\")\n",
        "plt.title(\"validation accuracy\")\n",
        "plt.xlabel(\"Epochs\")\n",
        "plt.ylabel(\"Accuracy\")\n",
        "plt.legend()"
      ],
      "metadata": {
        "id": "rqHMu21sY-rE",
        "outputId": "a26fb9a6-716a-4013-bf99-326c3792de31",
        "colab": {
          "base_uri": "https://localhost:8080/",
          "height": 490
        }
      },
      "execution_count": 26,
      "outputs": [
        {
          "output_type": "execute_result",
          "data": {
            "text/plain": [
              "<matplotlib.legend.Legend at 0x7fa943736b20>"
            ]
          },
          "metadata": {},
          "execution_count": 26
        },
        {
          "output_type": "display_data",
          "data": {
            "text/plain": [
              "<Figure size 640x480 with 1 Axes>"
            ],
            "image/png": "[encoded data removed]"
          },
          "metadata": {}
        }
      ]
    },
    {
      "cell_type": "markdown",
      "metadata": {
        "id": "mZvVdnVoDELd"
      },
      "source": [
        "**Different weight regularizers available in Keras**"
      ]
    },
    {
      "cell_type": "code",
      "execution_count": 27,
      "metadata": {
        "id": "e4mMN5QSDELd",
        "outputId": "03196589-e251-42d9-bac6-741d8c958b80",
        "colab": {
          "base_uri": "https://localhost:8080/"
        }
      },
      "outputs": [
        {
          "output_type": "execute_result",
          "data": {
            "text/plain": [
              "<keras.regularizers.L1L2 at 0x7fa944d1ea30>"
            ]
          },
          "metadata": {},
          "execution_count": 27
        }
      ],
      "source": [
        "from tensorflow.keras import regularizers\n",
        "regularizers.l1(0.001)\n",
        "regularizers.l1_l2(l1=0.001, l2=0.001)"
      ]
    },
    {
      "cell_type": "markdown",
      "metadata": {
        "id": "f_zUzY2MDELd"
      },
      "source": [
        "#### Adding dropout"
      ]
    },
    {
      "cell_type": "markdown",
      "metadata": {
        "id": "_I7gkEabDELd"
      },
      "source": [
        "**Adding dropout to the IMDB model**"
      ]
    },
    {
      "cell_type": "code",
      "execution_count": 28,
      "metadata": {
        "id": "1oXwDF0ADELd",
        "outputId": "379d1b66-62ae-496d-a14a-54ca44bdbe37",
        "colab": {
          "base_uri": "https://localhost:8080/"
        }
      },
      "outputs": [
        {
          "output_type": "stream",
          "name": "stdout",
          "text": [
            "Epoch 1/20\n",
            "30/30 [==============================] - 3s 55ms/step - loss: 0.6516 - accuracy: 0.6159 - val_loss: 0.5788 - val_accuracy: 0.8269\n",
            "Epoch 2/20\n",
            "30/30 [==============================] - 1s 24ms/step - loss: 0.5535 - accuracy: 0.7558 - val_loss: 0.4789 - val_accuracy: 0.8356\n",
            "Epoch 3/20\n",
            "30/30 [==============================] - 1s 24ms/step - loss: 0.4746 - accuracy: 0.8230 - val_loss: 0.4142 - val_accuracy: 0.8534\n",
            "Epoch 4/20\n",
            "30/30 [==============================] - 1s 26ms/step - loss: 0.4158 - accuracy: 0.8575 - val_loss: 0.3577 - val_accuracy: 0.8824\n",
            "Epoch 5/20\n",
            "30/30 [==============================] - 1s 26ms/step - loss: 0.3692 - accuracy: 0.8851 - val_loss: 0.3303 - val_accuracy: 0.8825\n",
            "Epoch 6/20\n",
            "30/30 [==============================] - 1s 25ms/step - loss: 0.3299 - accuracy: 0.9029 - val_loss: 0.3118 - val_accuracy: 0.8829\n",
            "Epoch 7/20\n",
            "30/30 [==============================] - 1s 21ms/step - loss: 0.2939 - accuracy: 0.9161 - val_loss: 0.3048 - val_accuracy: 0.8864\n",
            "Epoch 8/20\n",
            "30/30 [==============================] - 1s 22ms/step - loss: 0.2619 - accuracy: 0.9267 - val_loss: 0.3060 - val_accuracy: 0.8866\n",
            "Epoch 9/20\n",
            "30/30 [==============================] - 1s 21ms/step - loss: 0.2342 - accuracy: 0.9357 - val_loss: 0.2955 - val_accuracy: 0.8816\n",
            "Epoch 10/20\n",
            "30/30 [==============================] - 1s 21ms/step - loss: 0.2121 - accuracy: 0.9421 - val_loss: 0.3275 - val_accuracy: 0.8853\n",
            "Epoch 11/20\n",
            "30/30 [==============================] - 1s 22ms/step - loss: 0.1883 - accuracy: 0.9489 - val_loss: 0.3469 - val_accuracy: 0.8823\n",
            "Epoch 12/20\n",
            "30/30 [==============================] - 1s 22ms/step - loss: 0.1715 - accuracy: 0.9531 - val_loss: 0.3645 - val_accuracy: 0.8804\n",
            "Epoch 13/20\n",
            "30/30 [==============================] - 1s 21ms/step - loss: 0.1566 - accuracy: 0.9571 - val_loss: 0.3493 - val_accuracy: 0.8789\n",
            "Epoch 14/20\n",
            "30/30 [==============================] - 1s 25ms/step - loss: 0.1398 - accuracy: 0.9615 - val_loss: 0.4047 - val_accuracy: 0.8790\n",
            "Epoch 15/20\n",
            "30/30 [==============================] - 1s 25ms/step - loss: 0.1290 - accuracy: 0.9651 - val_loss: 0.4148 - val_accuracy: 0.8788\n",
            "Epoch 16/20\n",
            "30/30 [==============================] - 1s 24ms/step - loss: 0.1180 - accuracy: 0.9666 - val_loss: 0.4482 - val_accuracy: 0.8786\n",
            "Epoch 17/20\n",
            "30/30 [==============================] - 1s 22ms/step - loss: 0.1079 - accuracy: 0.9713 - val_loss: 0.4866 - val_accuracy: 0.8775\n",
            "Epoch 18/20\n",
            "30/30 [==============================] - 1s 24ms/step - loss: 0.1026 - accuracy: 0.9731 - val_loss: 0.4913 - val_accuracy: 0.8762\n",
            "Epoch 19/20\n",
            "30/30 [==============================] - 1s 24ms/step - loss: 0.0923 - accuracy: 0.9763 - val_loss: 0.4876 - val_accuracy: 0.8761\n",
            "Epoch 20/20\n",
            "30/30 [==============================] - 1s 24ms/step - loss: 0.0865 - accuracy: 0.9784 - val_loss: 0.5262 - val_accuracy: 0.8763\n"
          ]
        }
      ],
      "source": [
        "model = keras.Sequential([\n",
        "    layers.Dense(16, activation=\"relu\"),\n",
        "    layers.Dropout(0.5),\n",
        "    layers.Dense(16, activation=\"relu\"),\n",
        "    layers.Dropout(0.5),\n",
        "    layers.Dense(1, activation=\"sigmoid\")\n",
        "])\n",
        "model.compile(optimizer=\"rmsprop\",\n",
        "              loss=\"binary_crossentropy\",\n",
        "              metrics=[\"accuracy\"])\n",
        "history_dropout = model.fit(\n",
        "    train_data, train_labels,\n",
        "    epochs=20, batch_size=512, validation_split=0.4)"
      ]
    },
    {
      "cell_type": "code",
      "source": [
        "import matplotlib.pyplot as plt\n",
        "val_acc_original = history_original.history[\"val_accuracy\"]\n",
        "val_acc_dropout = history_dropout.history[\"val_accuracy\"]\n",
        "epochs = range(1, 21)\n",
        "plt.plot(epochs, val_acc_original, \"b-\",\n",
        "         label=\"Validation accuracy with original\")\n",
        "plt.plot(epochs, val_acc_dropout, \"r--\",\n",
        "         label=\"Validation accuracy with dropout\")\n",
        "plt.title(\"validation accuracy\")\n",
        "plt.xlabel(\"Epochs\")\n",
        "plt.ylabel(\"Accuracy\")\n",
        "plt.legend()"
      ],
      "metadata": {
        "id": "f7zHcxPNZwo_",
        "outputId": "ce7f7b63-17db-4396-8c47-545101cef9e7",
        "colab": {
          "base_uri": "https://localhost:8080/",
          "height": 490
        }
      },
      "execution_count": 29,
      "outputs": [
        {
          "output_type": "execute_result",
          "data": {
            "text/plain": [
              "<matplotlib.legend.Legend at 0x7fa944a1cb80>"
            ]
          },
          "metadata": {},
          "execution_count": 29
        },
        {
          "output_type": "display_data",
          "data": {
            "text/plain": [
              "<Figure size 640x480 with 1 Axes>"
            ],
            "image/png": "[encoded data removed]"
          },
          "metadata": {}
        }
      ]
    },
    {
      "cell_type": "markdown",
      "metadata": {
        "id": "TBZNHtvcDELe"
      },
      "source": [
        "## Summary"
      ]
    }
  ],
  "metadata": {
    "colab": {
      "name": "chapter05_fundamentals-of-ml.i",
      "provenance": [],
      "toc_visible": true,
      "include_colab_link": true
    },
    "kernelspec": {
      "display_name": "Python 3",
      "language": "python",
      "name": "python3"
    },
    "language_info": {
      "codemirror_mode": {
        "name": "ipython",
        "version": 3
      },
      "file_extension": ".py",
      "mimetype": "text/x-python",
      "name": "python",
      "nbconvert_exporter": "python",
      "pygments_lexer": "ipython3",
      "version": "3.7.0"
    },
    "accelerator": "GPU",
    "gpuClass": "standard"
  },
  "nbformat": 4,
  "nbformat_minor": 0
}